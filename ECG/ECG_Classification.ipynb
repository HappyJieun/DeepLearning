{
  "nbformat": 4,
  "nbformat_minor": 0,
  "metadata": {
    "colab": {
      "provenance": []
    },
    "kernelspec": {
      "name": "python3",
      "display_name": "Python 3"
    },
    "language_info": {
      "name": "python"
    }
  },
  "cells": [
    {
      "cell_type": "markdown",
      "source": [
        "# ECG Classification by CNN"
      ],
      "metadata": {
        "id": "zk2XyHvFRD3p"
      }
    },
    {
      "cell_type": "markdown",
      "source": [
        "# 0. Mounting"
      ],
      "metadata": {
        "id": "kjhRN3mWXP4T"
      }
    },
    {
      "cell_type": "code",
      "execution_count": 1,
      "metadata": {
        "id": "SAasJmZEH7_b",
        "colab": {
          "base_uri": "https://localhost:8080/"
        },
        "outputId": "b6211a7a-91af-4da9-8c51-a115c34247ea"
      },
      "outputs": [
        {
          "output_type": "stream",
          "name": "stdout",
          "text": [
            "Drive already mounted at /content/gdrive; to attempt to forcibly remount, call drive.mount(\"/content/gdrive\", force_remount=True).\n"
          ]
        }
      ],
      "source": [
        "from google.colab import drive\n",
        "drive.mount('/content/gdrive')"
      ]
    },
    {
      "cell_type": "code",
      "source": [
        "import pandas as pd\n",
        "import numpy as np\n",
        "import os\n",
        "import matplotlib.pyplot as plt\n",
        "from tensorflow.keras.utils import to_categorical\n",
        "from tensorflow.keras import Sequential, layers, optimizers\n",
        "import seaborn as sns\n",
        "from sklearn.metrics import confusion_matrix"
      ],
      "metadata": {
        "id": "LXZKS6L-WdBM"
      },
      "execution_count": 55,
      "outputs": []
    },
    {
      "cell_type": "code",
      "source": [
        "os.chdir('/content/gdrive/MyDrive/Colab Notebooks/ECG/')"
      ],
      "metadata": {
        "id": "soMbncFyX8Br"
      },
      "execution_count": 3,
      "outputs": []
    },
    {
      "cell_type": "markdown",
      "source": [
        "# 1. Dataset Overview\n",
        "\n",
        "- Number of Samples: 14,552\n",
        "\n",
        "- Number of Categories: 2\n",
        "\n",
        "- Sampling Frequency: 125Hz\n",
        "- Data Source: Physionet's PTB Diagnostic Database\n",
        "\n",
        "- https://www.physionet.org/content/ptbdb/1.0.0/\n"
      ],
      "metadata": {
        "id": "Onhhi-rNRvTL"
      }
    },
    {
      "cell_type": "code",
      "source": [
        "data_no = pd.read_csv('./ptbdb_normal.csv')\n",
        "data_ab = pd.read_csv('./ptbdb_abnormal.csv')"
      ],
      "metadata": {
        "id": "LBNZvWhgXByT"
      },
      "execution_count": 4,
      "outputs": []
    },
    {
      "cell_type": "code",
      "source": [
        "data_no = np.array(data_no)\n",
        "data_ab = np.array(data_ab)\n",
        "data_no"
      ],
      "metadata": {
        "id": "1x2lm4jxXOPP",
        "colab": {
          "base_uri": "https://localhost:8080/"
        },
        "outputId": "70fe5ba6-0948-4ee9-e1b6-45d4c986f051"
      },
      "execution_count": 5,
      "outputs": [
        {
          "output_type": "execute_result",
          "data": {
            "text/plain": [
              "array([[1.        , 0.79468149, 0.37538651, ..., 0.        , 0.        ,\n",
              "        0.        ],\n",
              "       [0.90902895, 0.79148209, 0.42316866, ..., 0.        , 0.        ,\n",
              "        0.        ],\n",
              "       [1.        , 0.47889334, 0.05675984, ..., 0.        , 0.        ,\n",
              "        0.        ],\n",
              "       ...,\n",
              "       [1.        , 0.87257439, 0.46507114, ..., 0.        , 0.        ,\n",
              "        0.        ],\n",
              "       [0.91598314, 0.52937263, 0.2884061 , ..., 0.        , 0.        ,\n",
              "        0.        ],\n",
              "       [1.        , 0.83864295, 0.39056683, ..., 0.        , 0.        ,\n",
              "        0.        ]])"
            ]
          },
          "metadata": {},
          "execution_count": 5
        }
      ]
    },
    {
      "cell_type": "code",
      "source": [
        "data_no.shape"
      ],
      "metadata": {
        "colab": {
          "base_uri": "https://localhost:8080/"
        },
        "id": "6phP8quIY_4e",
        "outputId": "197eaf64-9119-45d8-f142-195d8a10e0a1"
      },
      "execution_count": 6,
      "outputs": [
        {
          "output_type": "execute_result",
          "data": {
            "text/plain": [
              "(4045, 188)"
            ]
          },
          "metadata": {},
          "execution_count": 6
        }
      ]
    },
    {
      "cell_type": "code",
      "source": [
        "data_ab.shape"
      ],
      "metadata": {
        "colab": {
          "base_uri": "https://localhost:8080/"
        },
        "id": "YI6Y8s5EZNDk",
        "outputId": "b1c0827e-154c-4669-cd44-97446c4b54b7"
      },
      "execution_count": 7,
      "outputs": [
        {
          "output_type": "execute_result",
          "data": {
            "text/plain": [
              "(10505, 188)"
            ]
          },
          "metadata": {},
          "execution_count": 7
        }
      ]
    },
    {
      "cell_type": "code",
      "source": [
        "plt.plot(data_no[0,:])"
      ],
      "metadata": {
        "colab": {
          "base_uri": "https://localhost:8080/",
          "height": 448
        },
        "id": "1Ov2FUxiY6f0",
        "outputId": "dc0b9977-2dc7-4209-e7d5-c4b3268d7cb3"
      },
      "execution_count": 8,
      "outputs": [
        {
          "output_type": "execute_result",
          "data": {
            "text/plain": [
              "[<matplotlib.lines.Line2D at 0x7c0839bfe140>]"
            ]
          },
          "metadata": {},
          "execution_count": 8
        },
        {
          "output_type": "display_data",
          "data": {
            "text/plain": [
              "<Figure size 640x480 with 1 Axes>"
            ],
            "image/png": "[encoded data removed]"
          },
          "metadata": {}
        }
      ]
    },
    {
      "cell_type": "code",
      "source": [
        "plt.plot(data_ab[100,:])"
      ],
      "metadata": {
        "colab": {
          "base_uri": "https://localhost:8080/",
          "height": 448
        },
        "id": "xAhEGOi2bN9g",
        "outputId": "3bfa6ca1-5eb5-4c37-ef1b-1f0c2b6d9e75"
      },
      "execution_count": 9,
      "outputs": [
        {
          "output_type": "execute_result",
          "data": {
            "text/plain": [
              "[<matplotlib.lines.Line2D at 0x7c0839b0bac0>]"
            ]
          },
          "metadata": {},
          "execution_count": 9
        },
        {
          "output_type": "display_data",
          "data": {
            "text/plain": [
              "<Figure size 640x480 with 1 Axes>"
            ],
            "image/png": "[encoded data removed]"
          },
          "metadata": {}
        }
      ]
    },
    {
      "cell_type": "code",
      "source": [
        "index = np.random.randint(0, len(data_no), 2)\n",
        "\n",
        "fig, ax = plt.subplots(1, 2, sharey=True, figsize=(10, 4))\n",
        "ax[0].plot(data_no[index[0], :], label=f\"Case {index[0]}\")\n",
        "ax[0].plot(data_no[index[1], :], label=f\"Case {index[1]}\")\n",
        "ax[0].legend(shadow=True, frameon=True, facecolor=\"inherit\", loc=1, fontsize=9)\n",
        "ax[0].set_title(\"Normal\")\n",
        "\n",
        "ax[1].plot(data_ab[index[0], :], label=f\"Case {index[0]}\")\n",
        "ax[1].plot(data_ab[index[1], :], label=f\"Case {index[1]}\")\n",
        "ax[1].legend(shadow=True, frameon=True, facecolor=\"inherit\", loc=1, fontsize=9)\n",
        "ax[1].set_title(\"Abnormal\")\n",
        "\n",
        "plt.tight_layout()\n",
        "plt.show()"
      ],
      "metadata": {
        "colab": {
          "base_uri": "https://localhost:8080/",
          "height": 407
        },
        "id": "EiehJ7BtSiS3",
        "outputId": "47662e08-8578-4da3-a904-ded41da6d71f"
      },
      "execution_count": 10,
      "outputs": [
        {
          "output_type": "display_data",
          "data": {
            "text/plain": [
              "<Figure size 1000x400 with 2 Axes>"
            ],
            "image/png": "[encoded data removed]"
          },
          "metadata": {}
        }
      ]
    },
    {
      "cell_type": "markdown",
      "source": [
        "train data 생성"
      ],
      "metadata": {
        "id": "Gp7XCf8NZaaR"
      }
    },
    {
      "cell_type": "code",
      "source": [
        "nTrain = 3000\n",
        "nTest = 1000"
      ],
      "metadata": {
        "id": "4DY1tpdFZROF"
      },
      "execution_count": 34,
      "outputs": []
    },
    {
      "cell_type": "code",
      "source": [
        "x_train  = np.concatenate((data_no[:nTrain,:], data_ab[:nTrain,:]),0)\n",
        "y_train = np.concatenate((np.zeros(nTrain), np.ones(nTrain)), 0)"
      ],
      "metadata": {
        "id": "0aJagSzSZg_7"
      },
      "execution_count": 35,
      "outputs": []
    },
    {
      "cell_type": "code",
      "source": [
        "x_train.shape"
      ],
      "metadata": {
        "colab": {
          "base_uri": "https://localhost:8080/"
        },
        "id": "RfUzSwltaFkT",
        "outputId": "45ed1f85-10c0-40cc-8d01-5469c9a76cdd"
      },
      "execution_count": 36,
      "outputs": [
        {
          "output_type": "execute_result",
          "data": {
            "text/plain": [
              "(6000, 188)"
            ]
          },
          "metadata": {},
          "execution_count": 36
        }
      ]
    },
    {
      "cell_type": "code",
      "source": [
        "y_train.shape"
      ],
      "metadata": {
        "colab": {
          "base_uri": "https://localhost:8080/"
        },
        "id": "KmuHnjTgaV_R",
        "outputId": "47801cb7-6381-45b5-a044-be5652142ea6"
      },
      "execution_count": 37,
      "outputs": [
        {
          "output_type": "execute_result",
          "data": {
            "text/plain": [
              "(6000,)"
            ]
          },
          "metadata": {},
          "execution_count": 37
        }
      ]
    },
    {
      "cell_type": "markdown",
      "source": [
        "Test data 생성"
      ],
      "metadata": {
        "id": "RmQXNUjFabRl"
      }
    },
    {
      "cell_type": "code",
      "source": [
        "x_test  = np.concatenate((data_no[nTrain:nTrain+nTest,:], data_ab[nTrain:nTrain+nTest,:]),0)\n",
        "y_test = np.concatenate((np.zeros(nTest), np.ones(nTest)), 0)"
      ],
      "metadata": {
        "id": "EO5usDHXaZrj"
      },
      "execution_count": 38,
      "outputs": []
    },
    {
      "cell_type": "code",
      "source": [
        "x_test.shape"
      ],
      "metadata": {
        "colab": {
          "base_uri": "https://localhost:8080/"
        },
        "id": "94g8xmpFa1in",
        "outputId": "0e45e2cf-a7d9-4534-f5e7-c0551695215b"
      },
      "execution_count": 39,
      "outputs": [
        {
          "output_type": "execute_result",
          "data": {
            "text/plain": [
              "(2000, 188)"
            ]
          },
          "metadata": {},
          "execution_count": 39
        }
      ]
    },
    {
      "cell_type": "code",
      "source": [
        "# one hot encoding\n",
        "x_train = np.expand_dims(x_train, -1)\n",
        "x_test = np.expand_dims(x_test, -1)"
      ],
      "metadata": {
        "id": "HhcEnc4Oa4SH"
      },
      "execution_count": 40,
      "outputs": []
    },
    {
      "cell_type": "code",
      "source": [
        "x_train.shape"
      ],
      "metadata": {
        "colab": {
          "base_uri": "https://localhost:8080/"
        },
        "id": "XaQNzgXEbCaD",
        "outputId": "95c1b8f0-4d71-4fab-936b-2952cc171ab2"
      },
      "execution_count": 41,
      "outputs": [
        {
          "output_type": "execute_result",
          "data": {
            "text/plain": [
              "(6000, 188, 1)"
            ]
          },
          "metadata": {},
          "execution_count": 41
        }
      ]
    },
    {
      "cell_type": "code",
      "source": [
        "y_train = to_categorical(y_train)"
      ],
      "metadata": {
        "id": "x-xdNzXGbW1z"
      },
      "execution_count": 42,
      "outputs": []
    },
    {
      "cell_type": "code",
      "source": [
        "y_test = to_categorical(y_test)"
      ],
      "metadata": {
        "id": "VjFRVpB_bl2q"
      },
      "execution_count": 43,
      "outputs": []
    },
    {
      "cell_type": "code",
      "source": [
        "y_train"
      ],
      "metadata": {
        "colab": {
          "base_uri": "https://localhost:8080/"
        },
        "id": "YUe-JPxKbr2M",
        "outputId": "da866e42-5b5d-4b3f-ad66-5cff8406627c"
      },
      "execution_count": 44,
      "outputs": [
        {
          "output_type": "execute_result",
          "data": {
            "text/plain": [
              "array([[1., 0.],\n",
              "       [1., 0.],\n",
              "       [1., 0.],\n",
              "       ...,\n",
              "       [0., 1.],\n",
              "       [0., 1.],\n",
              "       [0., 1.]], dtype=float32)"
            ]
          },
          "metadata": {},
          "execution_count": 44
        }
      ]
    },
    {
      "cell_type": "code",
      "source": [
        "y_test"
      ],
      "metadata": {
        "colab": {
          "base_uri": "https://localhost:8080/"
        },
        "id": "AA2MqopybuE1",
        "outputId": "d5bd2a72-1bf8-4cb5-c808-a16556e7b970"
      },
      "execution_count": 45,
      "outputs": [
        {
          "output_type": "execute_result",
          "data": {
            "text/plain": [
              "array([[1., 0.],\n",
              "       [1., 0.],\n",
              "       [1., 0.],\n",
              "       ...,\n",
              "       [0., 1.],\n",
              "       [0., 1.],\n",
              "       [0., 1.]], dtype=float32)"
            ]
          },
          "metadata": {},
          "execution_count": 45
        }
      ]
    },
    {
      "cell_type": "markdown",
      "source": [
        "모델링"
      ],
      "metadata": {
        "id": "L1eq76PBbwIH"
      }
    },
    {
      "cell_type": "code",
      "source": [
        "# CNN + LSTM\n",
        "model = Sequential()\n",
        "model.add(layers.Conv1D(filters=16, kernel_size=3, input_shape=(x_train.shape[1], 1), activation='relu'))\n",
        "model.add(layers.Conv1D(filters=16, kernel_size=3, activation='relu'))\n",
        "model.add(layers.MaxPooling1D(pool_size=3, strides=2))\n",
        "model.add(layers.Conv1D(filters=32, kernel_size=3, input_shape=(x_train.shape[1], 1), activation='relu'))\n",
        "model.add(layers.Conv1D(filters=32, kernel_size=3, activation='relu'))\n",
        "model.add(layers.MaxPooling1D(pool_size=3, strides=2))\n",
        "model.add(layers.LSTM(16))\n",
        "model.add(layers.Dense(units=2, activation='softmax'))\n",
        "model.compile(loss='categorical_crossentropy', optimizer=optimizers.Adam(learning_rate=0.01), metrics=['accuracy'])"
      ],
      "metadata": {
        "id": "RPu9JLUXbuzV"
      },
      "execution_count": 46,
      "outputs": []
    },
    {
      "cell_type": "code",
      "source": [
        "model.fit(x_train, y_train, epochs = 50, batch_size=128, validation_split=0.2)"
      ],
      "metadata": {
        "colab": {
          "base_uri": "https://localhost:8080/"
        },
        "id": "88jkwTqqdTr_",
        "outputId": "6a6cb8e2-cb08-4f37-c5ab-8cc4ff45fd26"
      },
      "execution_count": 47,
      "outputs": [
        {
          "output_type": "stream",
          "name": "stdout",
          "text": [
            "Epoch 1/50\n",
            "38/38 [==============================] - 7s 113ms/step - loss: 0.6192 - accuracy: 0.6740 - val_loss: 0.6361 - val_accuracy: 0.6525\n",
            "Epoch 2/50\n",
            "38/38 [==============================] - 3s 88ms/step - loss: 0.5762 - accuracy: 0.7113 - val_loss: 0.6829 - val_accuracy: 0.6008\n",
            "Epoch 3/50\n",
            "38/38 [==============================] - 3s 86ms/step - loss: 0.5776 - accuracy: 0.7085 - val_loss: 0.6347 - val_accuracy: 0.6467\n",
            "Epoch 4/50\n",
            "38/38 [==============================] - 3s 89ms/step - loss: 0.5704 - accuracy: 0.7140 - val_loss: 0.7775 - val_accuracy: 0.5417\n",
            "Epoch 5/50\n",
            "38/38 [==============================] - 3s 84ms/step - loss: 0.5588 - accuracy: 0.7196 - val_loss: 0.7066 - val_accuracy: 0.5983\n",
            "Epoch 6/50\n",
            "38/38 [==============================] - 2s 55ms/step - loss: 0.5479 - accuracy: 0.7256 - val_loss: 0.7993 - val_accuracy: 0.4792\n",
            "Epoch 7/50\n",
            "38/38 [==============================] - 3s 83ms/step - loss: 0.5341 - accuracy: 0.7496 - val_loss: 1.0941 - val_accuracy: 0.3192\n",
            "Epoch 8/50\n",
            "38/38 [==============================] - 3s 88ms/step - loss: 0.5216 - accuracy: 0.7506 - val_loss: 0.9861 - val_accuracy: 0.3758\n",
            "Epoch 9/50\n",
            "38/38 [==============================] - 2s 58ms/step - loss: 0.5042 - accuracy: 0.7629 - val_loss: 0.9388 - val_accuracy: 0.4067\n",
            "Epoch 10/50\n",
            "38/38 [==============================] - 2s 56ms/step - loss: 0.4778 - accuracy: 0.7756 - val_loss: 0.8202 - val_accuracy: 0.4908\n",
            "Epoch 11/50\n",
            "38/38 [==============================] - 2s 61ms/step - loss: 0.4384 - accuracy: 0.8017 - val_loss: 0.6495 - val_accuracy: 0.6225\n",
            "Epoch 12/50\n",
            "38/38 [==============================] - 2s 61ms/step - loss: 0.3835 - accuracy: 0.8406 - val_loss: 0.8027 - val_accuracy: 0.6367\n",
            "Epoch 13/50\n",
            "38/38 [==============================] - 3s 86ms/step - loss: 0.3556 - accuracy: 0.8548 - val_loss: 0.6985 - val_accuracy: 0.7000\n",
            "Epoch 14/50\n",
            "38/38 [==============================] - 4s 92ms/step - loss: 0.3425 - accuracy: 0.8625 - val_loss: 0.5364 - val_accuracy: 0.7742\n",
            "Epoch 15/50\n",
            "38/38 [==============================] - 2s 56ms/step - loss: 0.3029 - accuracy: 0.8767 - val_loss: 0.7934 - val_accuracy: 0.6758\n",
            "Epoch 16/50\n",
            "38/38 [==============================] - 2s 56ms/step - loss: 0.2715 - accuracy: 0.8931 - val_loss: 0.4099 - val_accuracy: 0.8533\n",
            "Epoch 17/50\n",
            "38/38 [==============================] - 2s 56ms/step - loss: 0.2593 - accuracy: 0.8998 - val_loss: 0.4547 - val_accuracy: 0.8058\n",
            "Epoch 18/50\n",
            "38/38 [==============================] - 3s 71ms/step - loss: 0.2449 - accuracy: 0.9090 - val_loss: 0.3505 - val_accuracy: 0.8600\n",
            "Epoch 19/50\n",
            "38/38 [==============================] - 5s 124ms/step - loss: 0.2339 - accuracy: 0.9067 - val_loss: 0.4099 - val_accuracy: 0.8392\n",
            "Epoch 20/50\n",
            "38/38 [==============================] - 4s 97ms/step - loss: 0.2187 - accuracy: 0.9169 - val_loss: 0.4535 - val_accuracy: 0.8325\n",
            "Epoch 21/50\n",
            "38/38 [==============================] - 2s 61ms/step - loss: 0.2170 - accuracy: 0.9135 - val_loss: 0.3676 - val_accuracy: 0.8542\n",
            "Epoch 22/50\n",
            "38/38 [==============================] - 3s 67ms/step - loss: 0.1849 - accuracy: 0.9333 - val_loss: 0.3420 - val_accuracy: 0.8667\n",
            "Epoch 23/50\n",
            "38/38 [==============================] - 2s 63ms/step - loss: 0.2004 - accuracy: 0.9271 - val_loss: 0.2803 - val_accuracy: 0.8892\n",
            "Epoch 24/50\n",
            "38/38 [==============================] - 4s 110ms/step - loss: 0.1820 - accuracy: 0.9356 - val_loss: 0.1938 - val_accuracy: 0.9308\n",
            "Epoch 25/50\n",
            "38/38 [==============================] - 3s 89ms/step - loss: 0.1917 - accuracy: 0.9287 - val_loss: 0.3295 - val_accuracy: 0.8883\n",
            "Epoch 26/50\n",
            "38/38 [==============================] - 2s 60ms/step - loss: 0.1784 - accuracy: 0.9350 - val_loss: 0.3970 - val_accuracy: 0.8333\n",
            "Epoch 27/50\n",
            "38/38 [==============================] - 2s 58ms/step - loss: 0.1879 - accuracy: 0.9327 - val_loss: 0.3165 - val_accuracy: 0.8858\n",
            "Epoch 28/50\n",
            "38/38 [==============================] - 2s 63ms/step - loss: 0.1751 - accuracy: 0.9350 - val_loss: 0.4068 - val_accuracy: 0.8692\n",
            "Epoch 29/50\n",
            "38/38 [==============================] - 2s 66ms/step - loss: 0.1522 - accuracy: 0.9440 - val_loss: 0.3373 - val_accuracy: 0.8792\n",
            "Epoch 30/50\n",
            "38/38 [==============================] - 4s 96ms/step - loss: 0.1371 - accuracy: 0.9481 - val_loss: 0.3346 - val_accuracy: 0.8808\n",
            "Epoch 31/50\n",
            "38/38 [==============================] - 3s 68ms/step - loss: 0.1866 - accuracy: 0.9260 - val_loss: 0.2712 - val_accuracy: 0.8992\n",
            "Epoch 32/50\n",
            "38/38 [==============================] - 2s 57ms/step - loss: 0.1636 - accuracy: 0.9413 - val_loss: 0.2422 - val_accuracy: 0.9042\n",
            "Epoch 33/50\n",
            "38/38 [==============================] - 2s 56ms/step - loss: 0.1435 - accuracy: 0.9502 - val_loss: 0.2706 - val_accuracy: 0.9083\n",
            "Epoch 34/50\n",
            "38/38 [==============================] - 2s 58ms/step - loss: 0.1290 - accuracy: 0.9515 - val_loss: 0.2405 - val_accuracy: 0.9092\n",
            "Epoch 35/50\n",
            "38/38 [==============================] - 2s 65ms/step - loss: 0.1196 - accuracy: 0.9571 - val_loss: 0.2957 - val_accuracy: 0.8892\n",
            "Epoch 36/50\n",
            "38/38 [==============================] - 4s 97ms/step - loss: 0.1136 - accuracy: 0.9596 - val_loss: 0.2859 - val_accuracy: 0.8992\n",
            "Epoch 37/50\n",
            "38/38 [==============================] - 3s 70ms/step - loss: 0.1283 - accuracy: 0.9510 - val_loss: 0.2561 - val_accuracy: 0.9183\n",
            "Epoch 38/50\n",
            "38/38 [==============================] - 2s 62ms/step - loss: 0.1223 - accuracy: 0.9560 - val_loss: 0.2147 - val_accuracy: 0.9108\n",
            "Epoch 39/50\n",
            "38/38 [==============================] - 2s 60ms/step - loss: 0.1141 - accuracy: 0.9594 - val_loss: 0.3082 - val_accuracy: 0.8917\n",
            "Epoch 40/50\n",
            "38/38 [==============================] - 2s 59ms/step - loss: 0.1006 - accuracy: 0.9633 - val_loss: 0.2379 - val_accuracy: 0.9175\n",
            "Epoch 41/50\n",
            "38/38 [==============================] - 3s 69ms/step - loss: 0.1120 - accuracy: 0.9571 - val_loss: 0.1983 - val_accuracy: 0.9175\n",
            "Epoch 42/50\n",
            "38/38 [==============================] - 4s 99ms/step - loss: 0.1289 - accuracy: 0.9546 - val_loss: 0.2386 - val_accuracy: 0.9192\n",
            "Epoch 43/50\n",
            "38/38 [==============================] - 2s 63ms/step - loss: 0.0975 - accuracy: 0.9652 - val_loss: 0.1260 - val_accuracy: 0.9583\n",
            "Epoch 44/50\n",
            "38/38 [==============================] - 2s 62ms/step - loss: 0.1105 - accuracy: 0.9594 - val_loss: 0.2385 - val_accuracy: 0.9267\n",
            "Epoch 45/50\n",
            "38/38 [==============================] - 2s 60ms/step - loss: 0.0919 - accuracy: 0.9681 - val_loss: 0.1572 - val_accuracy: 0.9458\n",
            "Epoch 46/50\n",
            "38/38 [==============================] - 2s 63ms/step - loss: 0.0895 - accuracy: 0.9667 - val_loss: 0.2426 - val_accuracy: 0.9208\n",
            "Epoch 47/50\n",
            "38/38 [==============================] - 3s 81ms/step - loss: 0.1415 - accuracy: 0.9458 - val_loss: 0.5183 - val_accuracy: 0.8167\n",
            "Epoch 48/50\n",
            "38/38 [==============================] - 4s 100ms/step - loss: 0.1232 - accuracy: 0.9554 - val_loss: 0.2020 - val_accuracy: 0.9200\n",
            "Epoch 49/50\n",
            "38/38 [==============================] - 2s 57ms/step - loss: 0.0960 - accuracy: 0.9665 - val_loss: 0.3313 - val_accuracy: 0.8958\n",
            "Epoch 50/50\n",
            "38/38 [==============================] - 2s 62ms/step - loss: 0.1269 - accuracy: 0.9535 - val_loss: 0.2368 - val_accuracy: 0.9217\n"
          ]
        },
        {
          "output_type": "execute_result",
          "data": {
            "text/plain": [
              "<keras.src.callbacks.History at 0x7c08224bb2b0>"
            ]
          },
          "metadata": {},
          "execution_count": 47
        }
      ]
    },
    {
      "cell_type": "code",
      "source": [
        "o = model.predict(x_test)"
      ],
      "metadata": {
        "colab": {
          "base_uri": "https://localhost:8080/"
        },
        "id": "U8v2V9S8fF75",
        "outputId": "2b9578e6-54f5-4bde-d343-e536fa3f375e"
      },
      "execution_count": 48,
      "outputs": [
        {
          "output_type": "stream",
          "name": "stdout",
          "text": [
            "63/63 [==============================] - 1s 9ms/step\n"
          ]
        }
      ]
    },
    {
      "cell_type": "code",
      "source": [
        "o = np.argmax(o, 1)"
      ],
      "metadata": {
        "id": "ZdBKJ0wYfLIr"
      },
      "execution_count": 49,
      "outputs": []
    },
    {
      "cell_type": "code",
      "source": [
        "y_test = np.argmax(y_test, 1)"
      ],
      "metadata": {
        "id": "nq1AGezofPD5"
      },
      "execution_count": 50,
      "outputs": []
    },
    {
      "cell_type": "code",
      "source": [
        "# 예측\n",
        "o"
      ],
      "metadata": {
        "colab": {
          "base_uri": "https://localhost:8080/"
        },
        "id": "Ltb9OA8vZ3UY",
        "outputId": "b5f59490-c0d9-4045-9257-184b4c24ef6e"
      },
      "execution_count": 51,
      "outputs": [
        {
          "output_type": "execute_result",
          "data": {
            "text/plain": [
              "array([0, 0, 0, ..., 1, 1, 1])"
            ]
          },
          "metadata": {},
          "execution_count": 51
        }
      ]
    },
    {
      "cell_type": "code",
      "source": [
        "# 실제\n",
        "y_test"
      ],
      "metadata": {
        "colab": {
          "base_uri": "https://localhost:8080/"
        },
        "id": "tP1HDBjUfgDg",
        "outputId": "e62c3fc8-6d1e-4a71-d42d-b1f22de874a5"
      },
      "execution_count": 52,
      "outputs": [
        {
          "output_type": "execute_result",
          "data": {
            "text/plain": [
              "array([0, 0, 0, ..., 1, 1, 1])"
            ]
          },
          "metadata": {},
          "execution_count": 52
        }
      ]
    },
    {
      "cell_type": "code",
      "source": [
        "# Accuracy\n",
        "sum(o == y_test) / len(o) * 100"
      ],
      "metadata": {
        "colab": {
          "base_uri": "https://localhost:8080/"
        },
        "id": "9R5uapHYfh8p",
        "outputId": "c4cce865-f6e9-40a1-be2f-1932c3a8e7b7"
      },
      "execution_count": 53,
      "outputs": [
        {
          "output_type": "execute_result",
          "data": {
            "text/plain": [
              "93.8"
            ]
          },
          "metadata": {},
          "execution_count": 53
        }
      ]
    },
    {
      "cell_type": "code",
      "source": [
        "cm = confusion_matrix(y_test, o)\n",
        "\n",
        "plt.figure(figsize=(8, 6))\n",
        "sns.heatmap(cm, annot=True, fmt='d', cmap='Blues', cbar=False)\n",
        "plt.xlabel('Predicted Label')\n",
        "plt.ylabel('True Label')\n",
        "plt.title('Confusion Matrix')\n",
        "plt.show()"
      ],
      "metadata": {
        "colab": {
          "base_uri": "https://localhost:8080/",
          "height": 564
        },
        "id": "G1soIrsQZ_Lz",
        "outputId": "0d9007d0-8d72-4f5d-93de-fc7a97752fed"
      },
      "execution_count": 58,
      "outputs": [
        {
          "output_type": "display_data",
          "data": {
            "text/plain": [
              "<Figure size 800x600 with 1 Axes>"
            ],
            "image/png": "[encoded data removed]"
          },
          "metadata": {}
        }
      ]
    },
    {
      "cell_type": "code",
      "source": [],
      "metadata": {
        "id": "thjJ4QrQbLSy"
      },
      "execution_count": null,
      "outputs": []
    }
  ]
}